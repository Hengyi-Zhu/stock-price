{
 "cells": [
  {
   "cell_type": "code",
   "execution_count": 1,
   "metadata": {
    "collapsed": true
   },
   "outputs": [],
   "source": [
    "import pandas as pd\n",
    "import numpy as np\n",
    "import requests\n",
    "import datetime"
   ]
  },
  {
   "cell_type": "code",
   "execution_count": 2,
   "metadata": {
    "collapsed": true
   },
   "outputs": [],
   "source": [
    "Ticker = 'AAPL'\n",
    "# change XXXXXXXXXXXXXXXXXXXX to the actual key\n",
    "Ticker_url = 'https://www.quandl.com/api/v3/datasets/WIKI/%s.json?api_key=XXXXXXXXXXXXXXXXXXXX' % Ticker\n",
    "r = requests.get(Ticker_url)\n",
    "Ticker_json = r.json()\n",
    "# print Ticker_json.keys()\n",
    "# print Ticker_json['dataset'].keys()\n",
    "# print Ticker_json['dataset']['column_names']\n",
    "# print Ticker_json['dataset']['data'][:10]\n",
    "\n",
    "Ticker_header = Ticker_json['dataset']['column_names']\n",
    "Ticker_data_lst = Ticker_json['dataset']['data']\n",
    "\n",
    "Ticker_data_pd = pd.DataFrame(Ticker_data_lst, columns=Ticker_header)\n",
    "# print Ticker_data_pd.head()\n",
    "\n",
    "def prev_month(date):\n",
    "    if date.month == 1:\n",
    "        return date.replace(month=12,year=date.year-1)\n",
    "    else:\n",
    "        try:\n",
    "            return date.replace(month=date.month-1)\n",
    "        except ValueError:\n",
    "            if date.month == 3 and 29 <= date.day <= 31:\n",
    "                if date.year%4 == 0:\n",
    "                    return prev_month(date=date.replace(day=29))\n",
    "                else:\n",
    "                    return prev_month(date=date.replace(day=28))\n",
    "            else:\n",
    "                return prev_month(date=date.replace(day=date.day-1))\n",
    "        \n",
    "prev_month = prev_month(datetime.date.today())\n",
    "Ticker_data_prev_month = Ticker_data_pd.ix[Ticker_data_pd['Date'] >= str(prev_month) ] \n",
    "# print Ticker_data_prev_month"
   ]
  },
  {
   "cell_type": "code",
   "execution_count": 3,
   "metadata": {
    "collapsed": false
   },
   "outputs": [
    {
     "data": {
      "text/html": [
       "\n",
       "    <div class=\"bk-banner\">\n",
       "        <a href=\"http://bokeh.pydata.org\" target=\"_blank\" class=\"bk-logo bk-logo-small bk-logo-notebook\"></a>\n",
       "        <span id=\"38027c18-10ed-4259-804b-8dd57854eba1\">Loading BokehJS ...</span>\n",
       "    </div>"
      ]
     },
     "metadata": {},
     "output_type": "display_data"
    },
    {
     "data": {
      "application/javascript": [
       "\n",
       "(function(global) {\n",
       "  function now() {\n",
       "    return new Date();\n",
       "  }\n",
       "\n",
       "  if (typeof (window._bokeh_onload_callbacks) === \"undefined\") {\n",
       "    window._bokeh_onload_callbacks = [];\n",
       "  }\n",
       "\n",
       "  function run_callbacks() {\n",
       "    window._bokeh_onload_callbacks.forEach(function(callback) { callback() });\n",
       "    delete window._bokeh_onload_callbacks\n",
       "    console.info(\"Bokeh: all callbacks have finished\");\n",
       "  }\n",
       "\n",
       "  function load_libs(js_urls, callback) {\n",
       "    window._bokeh_onload_callbacks.push(callback);\n",
       "    if (window._bokeh_is_loading > 0) {\n",
       "      console.log(\"Bokeh: BokehJS is being loaded, scheduling callback at\", now());\n",
       "      return null;\n",
       "    }\n",
       "    if (js_urls == null || js_urls.length === 0) {\n",
       "      run_callbacks();\n",
       "      return null;\n",
       "    }\n",
       "    console.log(\"Bokeh: BokehJS not loaded, scheduling load and callback at\", now());\n",
       "    window._bokeh_is_loading = js_urls.length;\n",
       "    for (var i = 0; i < js_urls.length; i++) {\n",
       "      var url = js_urls[i];\n",
       "      var s = document.createElement('script');\n",
       "      s.src = url;\n",
       "      s.async = false;\n",
       "      s.onreadystatechange = s.onload = function() {\n",
       "        window._bokeh_is_loading--;\n",
       "        if (window._bokeh_is_loading === 0) {\n",
       "          console.log(\"Bokeh: all BokehJS libraries loaded\");\n",
       "          run_callbacks()\n",
       "        }\n",
       "      };\n",
       "      s.onerror = function() {\n",
       "        console.warn(\"failed to load library \" + url);\n",
       "      };\n",
       "      console.log(\"Bokeh: injecting script tag for BokehJS library: \", url);\n",
       "      document.getElementsByTagName(\"head\")[0].appendChild(s);\n",
       "    }\n",
       "  };\n",
       "\n",
       "  var js_urls = ['https://cdn.pydata.org/bokeh/release/bokeh-0.11.1.min.js', 'https://cdn.pydata.org/bokeh/release/bokeh-widgets-0.11.1.min.js', 'https://cdn.pydata.org/bokeh/release/bokeh-compiler-0.11.1.min.js'];\n",
       "\n",
       "  var inline_js = [\n",
       "    function(Bokeh) {\n",
       "      Bokeh.set_log_level(\"info\");\n",
       "    },\n",
       "    \n",
       "    function(Bokeh) {\n",
       "      Bokeh.$(\"#38027c18-10ed-4259-804b-8dd57854eba1\").text(\"BokehJS successfully loaded\");\n",
       "    },\n",
       "    function(Bokeh) {\n",
       "      console.log(\"Bokeh: injecting CSS: https://cdn.pydata.org/bokeh/release/bokeh-0.11.1.min.css\");\n",
       "      Bokeh.embed.inject_css(\"https://cdn.pydata.org/bokeh/release/bokeh-0.11.1.min.css\");\n",
       "      console.log(\"Bokeh: injecting CSS: https://cdn.pydata.org/bokeh/release/bokeh-widgets-0.11.1.min.css\");\n",
       "      Bokeh.embed.inject_css(\"https://cdn.pydata.org/bokeh/release/bokeh-widgets-0.11.1.min.css\");\n",
       "    }\n",
       "  ];\n",
       "\n",
       "  function run_inline_js() {\n",
       "    for (var i = 0; i < inline_js.length; i++) {\n",
       "      inline_js[i](window.Bokeh);\n",
       "    }\n",
       "  }\n",
       "\n",
       "  if (window._bokeh_is_loading === 0) {\n",
       "    console.log(\"Bokeh: BokehJS loaded, going straight to plotting\");\n",
       "    run_inline_js();\n",
       "  } else {\n",
       "    load_libs(js_urls, function() {\n",
       "      console.log(\"Bokeh: BokehJS plotting callback run at\", now());\n",
       "      run_inline_js();\n",
       "    });\n",
       "  }\n",
       "}(this));"
      ]
     },
     "metadata": {},
     "output_type": "display_data"
    },
    {
     "data": {
      "text/html": [
       "\n",
       "\n",
       "    <div class=\"plotdiv\" id=\"5d5460a8-7577-44c7-a2b5-242511f7ffd0\"></div>\n",
       "<script type=\"text/javascript\">\n",
       "  \n",
       "  (function(global) {\n",
       "    function now() {\n",
       "      return new Date();\n",
       "    }\n",
       "  \n",
       "    if (typeof (window._bokeh_onload_callbacks) === \"undefined\") {\n",
       "      window._bokeh_onload_callbacks = [];\n",
       "    }\n",
       "  \n",
       "    function run_callbacks() {\n",
       "      window._bokeh_onload_callbacks.forEach(function(callback) { callback() });\n",
       "      delete window._bokeh_onload_callbacks\n",
       "      console.info(\"Bokeh: all callbacks have finished\");\n",
       "    }\n",
       "  \n",
       "    function load_libs(js_urls, callback) {\n",
       "      window._bokeh_onload_callbacks.push(callback);\n",
       "      if (window._bokeh_is_loading > 0) {\n",
       "        console.log(\"Bokeh: BokehJS is being loaded, scheduling callback at\", now());\n",
       "        return null;\n",
       "      }\n",
       "      if (js_urls == null || js_urls.length === 0) {\n",
       "        run_callbacks();\n",
       "        return null;\n",
       "      }\n",
       "      console.log(\"Bokeh: BokehJS not loaded, scheduling load and callback at\", now());\n",
       "      window._bokeh_is_loading = js_urls.length;\n",
       "      for (var i = 0; i < js_urls.length; i++) {\n",
       "        var url = js_urls[i];\n",
       "        var s = document.createElement('script');\n",
       "        s.src = url;\n",
       "        s.async = false;\n",
       "        s.onreadystatechange = s.onload = function() {\n",
       "          window._bokeh_is_loading--;\n",
       "          if (window._bokeh_is_loading === 0) {\n",
       "            console.log(\"Bokeh: all BokehJS libraries loaded\");\n",
       "            run_callbacks()\n",
       "          }\n",
       "        };\n",
       "        s.onerror = function() {\n",
       "          console.warn(\"failed to load library \" + url);\n",
       "        };\n",
       "        console.log(\"Bokeh: injecting script tag for BokehJS library: \", url);\n",
       "        document.getElementsByTagName(\"head\")[0].appendChild(s);\n",
       "      }\n",
       "    };var element = document.getElementById(\"5d5460a8-7577-44c7-a2b5-242511f7ffd0\");\n",
       "    if (element == null) {\n",
       "      console.log(\"Bokeh: ERROR: autoload.js configured with elementid '5d5460a8-7577-44c7-a2b5-242511f7ffd0' but no matching script tag was found. \")\n",
       "      return false;\n",
       "    }\n",
       "  \n",
       "    var js_urls = [];\n",
       "  \n",
       "    var inline_js = [\n",
       "      function(Bokeh) {\n",
       "        Bokeh.$(function() {\n",
       "            var docs_json = {\"c6c3a3ad-2076-483c-9688-2cc60bde3ee7\":{\"roots\":{\"references\":[{\"attributes\":{\"callback\":null,\"column_names\":[\"y\",\"x\"],\"data\":{\"x\":[1464825600000.0,1464739200000.0,1464652800000.0,1464307200000.0,1464220800000.0,1464134400000.0,1464048000000.0,1463961600000.0,1463702400000.0,1463616000000.0,1463529600000.0,1463443200000.0,1463356800000.0,1463097600000.0,1463011200000.0,1462924800000.0,1462838400000.0,1462752000000.0,1462492800000.0,1462406400000.0,1462320000000.0,1462233600000.0,1462147200000.0],\"y\":[97.72,98.46,99.82,100.35,100.41,99.62,97.9,96.43,95.22,94.2,94.56,93.49,93.88,90.52,90.32,92.51,93.39,92.82,92.72,93.24,94.19,95.18,93.65]}},\"id\":\"2c03e8c0-afbf-4ae0-a78a-84379b436624\",\"type\":\"ColumnDataSource\"},{\"attributes\":{\"below\":[{\"id\":\"a369fb18-c9f9-49cd-b23b-b04c3ccf30ce\",\"type\":\"DatetimeAxis\"}],\"left\":[{\"id\":\"19620060-ac60-4c73-9a08-80ef103e313c\",\"type\":\"LinearAxis\"}],\"plot_height\":400,\"renderers\":[{\"id\":\"a369fb18-c9f9-49cd-b23b-b04c3ccf30ce\",\"type\":\"DatetimeAxis\"},{\"id\":\"236051af-323a-4e2d-98b9-ef6bbf28da8e\",\"type\":\"Grid\"},{\"id\":\"19620060-ac60-4c73-9a08-80ef103e313c\",\"type\":\"LinearAxis\"},{\"id\":\"63b4f216-25b3-4969-8ed3-dcc071a743e6\",\"type\":\"Grid\"},{\"id\":\"62d51753-f0ff-4734-8279-3a6de60af7a0\",\"type\":\"BoxAnnotation\"},{\"id\":\"0d52cb28-97f0-42bb-80c4-0c2048a4ee3e\",\"type\":\"Legend\"},{\"id\":\"caedbe92-d6c6-43ea-a8d8-0b38d33c37a5\",\"type\":\"GlyphRenderer\"}],\"title\":\"AAPL historical prices from Quandl WIKI set\",\"tool_events\":{\"id\":\"3a1e8ff4-10d2-4ef9-9c11-3859f10d9262\",\"type\":\"ToolEvents\"},\"tools\":[{\"id\":\"4cf796f3-b6c4-4363-be30-4183f010581f\",\"type\":\"PanTool\"},{\"id\":\"a2be1496-da3e-4b49-9800-fe3e7d464325\",\"type\":\"WheelZoomTool\"},{\"id\":\"7ce489ea-46d5-4100-a2c4-223daf0034db\",\"type\":\"BoxZoomTool\"},{\"id\":\"65144052-9ef4-400d-8f08-dc053ea02e97\",\"type\":\"PreviewSaveTool\"},{\"id\":\"331ea16a-4160-406e-9f77-7069ce040f68\",\"type\":\"ResizeTool\"},{\"id\":\"e12e76de-dc50-45d6-b311-d2df23be359a\",\"type\":\"ResetTool\"},{\"id\":\"b1ae6d8e-7d9a-4c12-8307-fddf656ddb49\",\"type\":\"HelpTool\"}],\"x_range\":{\"id\":\"73ee65fa-0a19-432d-bf41-cdbf6e8bfd0a\",\"type\":\"DataRange1d\"},\"y_range\":{\"id\":\"70bf7fd8-eba7-4e94-aed4-9ce2cbef3069\",\"type\":\"DataRange1d\"}},\"id\":\"8e6e602c-9412-4bb2-92d8-3eacd7cb2b24\",\"subtype\":\"Figure\",\"type\":\"Plot\"},{\"attributes\":{\"days\":[1,8,15,22]},\"id\":\"676b2a25-310d-419c-ae47-faab81658d30\",\"type\":\"DaysTicker\"},{\"attributes\":{},\"id\":\"3a1e8ff4-10d2-4ef9-9c11-3859f10d9262\",\"type\":\"ToolEvents\"},{\"attributes\":{\"months\":[0,6]},\"id\":\"590e4beb-b40d-460c-8d70-e32449f1d2e5\",\"type\":\"MonthsTicker\"},{\"attributes\":{\"plot\":{\"id\":\"8e6e602c-9412-4bb2-92d8-3eacd7cb2b24\",\"subtype\":\"Figure\",\"type\":\"Plot\"}},\"id\":\"e12e76de-dc50-45d6-b311-d2df23be359a\",\"type\":\"ResetTool\"},{\"attributes\":{\"days\":[1,4,7,10,13,16,19,22,25,28]},\"id\":\"c0648cb4-eb1f-42a0-870c-956330af47ca\",\"type\":\"DaysTicker\"},{\"attributes\":{\"base\":60,\"mantissas\":[1,2,5,10,15,20,30],\"max_interval\":1800000.0,\"min_interval\":1000.0,\"num_minor_ticks\":0},\"id\":\"002b4cdc-53cb-4f67-91bc-95f8e708f175\",\"type\":\"AdaptiveTicker\"},{\"attributes\":{\"months\":[0,2,4,6,8,10]},\"id\":\"4c86d2c3-21f8-4b84-996d-33d96fcf2154\",\"type\":\"MonthsTicker\"},{\"attributes\":{\"legends\":[[\"AAPL: Close\",[{\"id\":\"caedbe92-d6c6-43ea-a8d8-0b38d33c37a5\",\"type\":\"GlyphRenderer\"}]]],\"location\":\"top_left\",\"plot\":{\"id\":\"8e6e602c-9412-4bb2-92d8-3eacd7cb2b24\",\"subtype\":\"Figure\",\"type\":\"Plot\"}},\"id\":\"0d52cb28-97f0-42bb-80c4-0c2048a4ee3e\",\"type\":\"Legend\"},{\"attributes\":{\"axis_label\":\"Date\",\"formatter\":{\"id\":\"e0e833c1-9900-40f5-b779-3fa83096b392\",\"type\":\"DatetimeTickFormatter\"},\"plot\":{\"id\":\"8e6e602c-9412-4bb2-92d8-3eacd7cb2b24\",\"subtype\":\"Figure\",\"type\":\"Plot\"},\"ticker\":{\"id\":\"4bece64f-7e3b-496e-b72d-37246e22c7b2\",\"type\":\"DatetimeTicker\"}},\"id\":\"a369fb18-c9f9-49cd-b23b-b04c3ccf30ce\",\"type\":\"DatetimeAxis\"},{\"attributes\":{},\"id\":\"e0e833c1-9900-40f5-b779-3fa83096b392\",\"type\":\"DatetimeTickFormatter\"},{\"attributes\":{\"base\":24,\"mantissas\":[1,2,4,6,8,12],\"max_interval\":43200000.0,\"min_interval\":3600000.0,\"num_minor_ticks\":0},\"id\":\"6728f805-287f-4b8d-baad-5af24d68b8cf\",\"type\":\"AdaptiveTicker\"},{\"attributes\":{\"plot\":{\"id\":\"8e6e602c-9412-4bb2-92d8-3eacd7cb2b24\",\"subtype\":\"Figure\",\"type\":\"Plot\"}},\"id\":\"331ea16a-4160-406e-9f77-7069ce040f68\",\"type\":\"ResizeTool\"},{\"attributes\":{\"callback\":null},\"id\":\"70bf7fd8-eba7-4e94-aed4-9ce2cbef3069\",\"type\":\"DataRange1d\"},{\"attributes\":{},\"id\":\"c1c658d3-e586-4814-a97f-016805155305\",\"type\":\"YearsTicker\"},{\"attributes\":{\"num_minor_ticks\":5},\"id\":\"4bece64f-7e3b-496e-b72d-37246e22c7b2\",\"type\":\"DatetimeTicker\"},{\"attributes\":{\"bottom_units\":\"screen\",\"fill_alpha\":{\"value\":0.5},\"fill_color\":{\"value\":\"lightgrey\"},\"left_units\":\"screen\",\"level\":\"overlay\",\"line_alpha\":{\"value\":1.0},\"line_color\":{\"value\":\"black\"},\"line_dash\":[4,4],\"line_width\":{\"value\":2},\"plot\":null,\"render_mode\":\"css\",\"right_units\":\"screen\",\"top_units\":\"screen\"},\"id\":\"62d51753-f0ff-4734-8279-3a6de60af7a0\",\"type\":\"BoxAnnotation\"},{\"attributes\":{},\"id\":\"3c661b61-0c38-4710-8aa7-f53ef484b864\",\"type\":\"BasicTicker\"},{\"attributes\":{\"line_alpha\":{\"value\":0.1},\"line_color\":{\"value\":\"#1f77b4\"},\"x\":{\"field\":\"x\"},\"y\":{\"field\":\"y\"}},\"id\":\"406af1d7-241b-4e0e-a5e9-828c8648357e\",\"type\":\"Line\"},{\"attributes\":{\"months\":[0,1,2,3,4,5,6,7,8,9,10,11]},\"id\":\"064fae00-bf18-4c7c-92b7-f33e81b0fb30\",\"type\":\"MonthsTicker\"},{\"attributes\":{},\"id\":\"6552c7d3-6a8c-4eb5-ab59-5e86f7e5d2a2\",\"type\":\"BasicTickFormatter\"},{\"attributes\":{\"plot\":{\"id\":\"8e6e602c-9412-4bb2-92d8-3eacd7cb2b24\",\"subtype\":\"Figure\",\"type\":\"Plot\"},\"ticker\":{\"id\":\"4bece64f-7e3b-496e-b72d-37246e22c7b2\",\"type\":\"DatetimeTicker\"}},\"id\":\"236051af-323a-4e2d-98b9-ef6bbf28da8e\",\"type\":\"Grid\"},{\"attributes\":{\"plot\":{\"id\":\"8e6e602c-9412-4bb2-92d8-3eacd7cb2b24\",\"subtype\":\"Figure\",\"type\":\"Plot\"}},\"id\":\"65144052-9ef4-400d-8f08-dc053ea02e97\",\"type\":\"PreviewSaveTool\"},{\"attributes\":{\"plot\":{\"id\":\"8e6e602c-9412-4bb2-92d8-3eacd7cb2b24\",\"subtype\":\"Figure\",\"type\":\"Plot\"}},\"id\":\"4cf796f3-b6c4-4363-be30-4183f010581f\",\"type\":\"PanTool\"},{\"attributes\":{\"max_interval\":500.0,\"num_minor_ticks\":0},\"id\":\"c6b49c06-6396-4130-8ea5-12c1e4daab91\",\"type\":\"AdaptiveTicker\"},{\"attributes\":{\"months\":[0,4,8]},\"id\":\"bce311c8-153e-41fe-8bed-ce68a6d1b015\",\"type\":\"MonthsTicker\"},{\"attributes\":{\"callback\":null},\"id\":\"73ee65fa-0a19-432d-bf41-cdbf6e8bfd0a\",\"type\":\"DataRange1d\"},{\"attributes\":{\"plot\":{\"id\":\"8e6e602c-9412-4bb2-92d8-3eacd7cb2b24\",\"subtype\":\"Figure\",\"type\":\"Plot\"}},\"id\":\"a2be1496-da3e-4b49-9800-fe3e7d464325\",\"type\":\"WheelZoomTool\"},{\"attributes\":{\"days\":[1,15]},\"id\":\"96958230-2ef2-4331-9f45-12382315d584\",\"type\":\"DaysTicker\"},{\"attributes\":{\"line_color\":{\"value\":\"#1f77b4\"},\"x\":{\"field\":\"x\"},\"y\":{\"field\":\"y\"}},\"id\":\"adead54f-78ed-4dce-95d1-8af493cf8d2b\",\"type\":\"Line\"},{\"attributes\":{\"axis_label\":\"Price\",\"formatter\":{\"id\":\"6552c7d3-6a8c-4eb5-ab59-5e86f7e5d2a2\",\"type\":\"BasicTickFormatter\"},\"plot\":{\"id\":\"8e6e602c-9412-4bb2-92d8-3eacd7cb2b24\",\"subtype\":\"Figure\",\"type\":\"Plot\"},\"ticker\":{\"id\":\"3c661b61-0c38-4710-8aa7-f53ef484b864\",\"type\":\"BasicTicker\"}},\"id\":\"19620060-ac60-4c73-9a08-80ef103e313c\",\"type\":\"LinearAxis\"},{\"attributes\":{\"overlay\":{\"id\":\"62d51753-f0ff-4734-8279-3a6de60af7a0\",\"type\":\"BoxAnnotation\"},\"plot\":{\"id\":\"8e6e602c-9412-4bb2-92d8-3eacd7cb2b24\",\"subtype\":\"Figure\",\"type\":\"Plot\"}},\"id\":\"7ce489ea-46d5-4100-a2c4-223daf0034db\",\"type\":\"BoxZoomTool\"},{\"attributes\":{\"data_source\":{\"id\":\"2c03e8c0-afbf-4ae0-a78a-84379b436624\",\"type\":\"ColumnDataSource\"},\"glyph\":{\"id\":\"adead54f-78ed-4dce-95d1-8af493cf8d2b\",\"type\":\"Line\"},\"hover_glyph\":null,\"nonselection_glyph\":{\"id\":\"406af1d7-241b-4e0e-a5e9-828c8648357e\",\"type\":\"Line\"},\"selection_glyph\":null},\"id\":\"caedbe92-d6c6-43ea-a8d8-0b38d33c37a5\",\"type\":\"GlyphRenderer\"},{\"attributes\":{\"days\":[1,2,3,4,5,6,7,8,9,10,11,12,13,14,15,16,17,18,19,20,21,22,23,24,25,26,27,28,29,30,31]},\"id\":\"437e7bf1-dd8a-4a04-80a4-0cfd5a2aa290\",\"type\":\"DaysTicker\"},{\"attributes\":{\"plot\":{\"id\":\"8e6e602c-9412-4bb2-92d8-3eacd7cb2b24\",\"subtype\":\"Figure\",\"type\":\"Plot\"}},\"id\":\"b1ae6d8e-7d9a-4c12-8307-fddf656ddb49\",\"type\":\"HelpTool\"},{\"attributes\":{\"dimension\":1,\"plot\":{\"id\":\"8e6e602c-9412-4bb2-92d8-3eacd7cb2b24\",\"subtype\":\"Figure\",\"type\":\"Plot\"},\"ticker\":{\"id\":\"3c661b61-0c38-4710-8aa7-f53ef484b864\",\"type\":\"BasicTicker\"}},\"id\":\"63b4f216-25b3-4969-8ed3-dcc071a743e6\",\"type\":\"Grid\"}],\"root_ids\":[\"8e6e602c-9412-4bb2-92d8-3eacd7cb2b24\"]},\"title\":\"Bokeh Application\",\"version\":\"0.11.1\"}};\n",
       "            var render_items = [{\"docid\":\"c6c3a3ad-2076-483c-9688-2cc60bde3ee7\",\"elementid\":\"5d5460a8-7577-44c7-a2b5-242511f7ffd0\",\"modelid\":\"8e6e602c-9412-4bb2-92d8-3eacd7cb2b24\",\"notebook_comms_target\":\"d0965dd0-d51c-4075-a3f2-6f84e922a4c6\"}];\n",
       "            \n",
       "            Bokeh.embed.embed_items(docs_json, render_items);\n",
       "        });\n",
       "      },\n",
       "      function(Bokeh) {\n",
       "      }\n",
       "    ];\n",
       "  \n",
       "    function run_inline_js() {\n",
       "      for (var i = 0; i < inline_js.length; i++) {\n",
       "        inline_js[i](window.Bokeh);\n",
       "      }\n",
       "    }\n",
       "  \n",
       "    if (window._bokeh_is_loading === 0) {\n",
       "      console.log(\"Bokeh: BokehJS loaded, going straight to plotting\");\n",
       "      run_inline_js();\n",
       "    } else {\n",
       "      load_libs(js_urls, function() {\n",
       "        console.log(\"Bokeh: BokehJS plotting callback run at\", now());\n",
       "        run_inline_js();\n",
       "      });\n",
       "    }\n",
       "  }(this));\n",
       "</script>"
      ]
     },
     "metadata": {},
     "output_type": "display_data"
    },
    {
     "data": {
      "text/html": [
       "<p><code>&lt;Bokeh Notebook handle for <strong>In[3]</strong>&gt;</code></p>"
      ],
      "text/plain": [
       "<bokeh.io._CommsHandle at 0x7fe77dfd4ed0>"
      ]
     },
     "execution_count": 3,
     "metadata": {},
     "output_type": "execute_result"
    }
   ],
   "source": [
    "from bokeh.io import output_notebook, show\n",
    "output_notebook()\n",
    "from bokeh.plotting import figure, output_file, show\n",
    "\n",
    "Ticker_close = np.array(Ticker_data_prev_month['Close'])\n",
    "Ticker_date = np.array(Ticker_data_prev_month['Date'], dtype=np.datetime64)\n",
    "\n",
    "p = figure(width=600, height=400, x_axis_type=\"datetime\")\n",
    "p.line(Ticker_date, Ticker_close, legend = \"%s: Close\" % Ticker)\n",
    "p.title = \"%s historical prices from Quandl WIKI set\" % Ticker\n",
    "p.legend.location = \"top_left\"\n",
    "p.xaxis.axis_label = 'Date'\n",
    "p.yaxis.axis_label = 'Price'\n",
    "\n",
    "show(p)"
   ]
  },
  {
   "cell_type": "code",
   "execution_count": 4,
   "metadata": {
    "collapsed": false
   },
   "outputs": [
    {
     "name": "stdout",
     "output_type": "stream",
     "text": [
      "\n",
      "<div class=\"plotdiv\" id=\"7d917bde-cc83-461e-b8c1-75d3d5f1aa67\"></div>\n"
     ]
    }
   ],
   "source": [
    "from bokeh.resources import CDN\n",
    "from bokeh.embed import components\n",
    "\n",
    "script, div = components(p)\n",
    "print div"
   ]
  },
  {
   "cell_type": "code",
   "execution_count": null,
   "metadata": {
    "collapsed": true
   },
   "outputs": [],
   "source": []
  }
 ],
 "metadata": {
  "kernelspec": {
   "display_name": "Python 2",
   "language": "python",
   "name": "python2"
  },
  "language_info": {
   "codemirror_mode": {
    "name": "ipython",
    "version": 2
   },
   "file_extension": ".py",
   "mimetype": "text/x-python",
   "name": "python",
   "nbconvert_exporter": "python",
   "pygments_lexer": "ipython2",
   "version": "2.7.11"
  }
 },
 "nbformat": 4,
 "nbformat_minor": 0
}
